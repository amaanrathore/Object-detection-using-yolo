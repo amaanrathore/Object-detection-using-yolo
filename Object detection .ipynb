{
 "cells": [
  {
   "cell_type": "markdown",
   "id": "af8459dc-e533-4611-8395-dfec7e75afce",
   "metadata": {},
   "source": [
    "# Detect Objects in an image using a pre-trained model YOLO"
   ]
  },
  {
   "cell_type": "code",
   "execution_count": 1,
   "id": "e3cd6e1e-173a-425e-a009-b77f0f5898e6",
   "metadata": {},
   "outputs": [
    {
     "name": "stdout",
     "output_type": "stream",
     "text": [
      "PRO TIP 💡 Replace 'model=yolov5s.pt' with new 'model=yolov5su.pt'.\n",
      "YOLOv5 'u' models are trained with https://github.com/ultralytics/ultralytics and feature improved performance vs standard YOLOv5 models trained with https://github.com/ultralytics/yolov5.\n",
      "\n",
      "\n",
      "0: 480x640 9 persons, 103.2ms\n",
      "Speed: 4.8ms preprocess, 103.2ms inference, 7.7ms postprocess per image at shape (1, 3, 480, 640)\n"
     ]
    }
   ],
   "source": [
    "from ultralytics import YOLO\n",
    "import cv2\n",
    "\n",
    "# Load the pre-trained YOLOv5 model\n",
    "model = YOLO(\"yolov5s.pt\")\n",
    "\n",
    "# Load image\n",
    "image_path = \"/Users/amaanrathore/Desktop/IMG_1174.jpeg\"  # Replace with your image path\n",
    "image = cv2.imread(image_path)\n",
    "\n",
    "# Perform object detection\n",
    "results = model(image)\n",
    "\n",
    "# Show results\n",
    "results[0].show()\n"
   ]
  },
  {
   "cell_type": "code",
   "execution_count": null,
   "id": "69d11115-7a1d-43fe-8214-b49db56b3ece",
   "metadata": {},
   "outputs": [],
   "source": []
  }
 ],
 "metadata": {
  "kernelspec": {
   "display_name": "Python 3 (ipykernel)",
   "language": "python",
   "name": "python3"
  },
  "language_info": {
   "codemirror_mode": {
    "name": "ipython",
    "version": 3
   },
   "file_extension": ".py",
   "mimetype": "text/x-python",
   "name": "python",
   "nbconvert_exporter": "python",
   "pygments_lexer": "ipython3",
   "version": "3.11.7"
  }
 },
 "nbformat": 4,
 "nbformat_minor": 5
}
